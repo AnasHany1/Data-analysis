{
 "cells": [
  {
   "cell_type": "markdown",
   "metadata": {},
   "source": [
    "## Reading Data"
   ]
  },
  {
   "cell_type": "code",
   "execution_count": 1,
   "metadata": {},
   "outputs": [],
   "source": [
    "import numpy as np\n",
    "import pandas as pd\n",
    "import matplotlib.pyplot as plt\n",
    "import seaborn as sns\n",
    "\n",
    "from sklearn.linear_model import LogisticRegression\n",
    "from sklearn import svm\n",
    "from sklearn.naive_bayes import GaussianNB\n",
    "from sklearn.ensemble import RandomForestClassifier\n",
    "from sklearn.metrics import accuracy_score, f1_score, classification_report, confusion_matrix, roc_auc_score\n",
    "from sklearn.model_selection import train_test_split\n",
    "from sklearn.preprocessing import MinMaxScaler\n",
    "\n",
    "from imblearn.over_sampling import SMOTE\n",
    "\n",
    "import warnings\n",
    "warnings.filterwarnings(\"ignore\")"
   ]
  },
  {
   "cell_type": "code",
   "execution_count": 2,
   "metadata": {},
   "outputs": [],
   "source": [
    "data = pd.read_csv(\"stroke.csv\")"
   ]
  },
  {
   "cell_type": "code",
   "execution_count": 3,
   "metadata": {},
   "outputs": [
    {
     "name": "stdout",
     "output_type": "stream",
     "text": [
      "(5110, 12)\n"
     ]
    },
    {
     "data": {
      "text/html": [
       "<div>\n",
       "<style scoped>\n",
       "    .dataframe tbody tr th:only-of-type {\n",
       "        vertical-align: middle;\n",
       "    }\n",
       "\n",
       "    .dataframe tbody tr th {\n",
       "        vertical-align: top;\n",
       "    }\n",
       "\n",
       "    .dataframe thead th {\n",
       "        text-align: right;\n",
       "    }\n",
       "</style>\n",
       "<table border=\"1\" class=\"dataframe\">\n",
       "  <thead>\n",
       "    <tr style=\"text-align: right;\">\n",
       "      <th></th>\n",
       "      <th>id</th>\n",
       "      <th>gender</th>\n",
       "      <th>age</th>\n",
       "      <th>hypertension</th>\n",
       "      <th>heart_disease</th>\n",
       "      <th>ever_married</th>\n",
       "      <th>work_type</th>\n",
       "      <th>Residence_type</th>\n",
       "      <th>avg_glucose_level</th>\n",
       "      <th>bmi</th>\n",
       "      <th>smoking_status</th>\n",
       "      <th>stroke</th>\n",
       "    </tr>\n",
       "  </thead>\n",
       "  <tbody>\n",
       "    <tr>\n",
       "      <th>0</th>\n",
       "      <td>9046</td>\n",
       "      <td>Male</td>\n",
       "      <td>67.0</td>\n",
       "      <td>0</td>\n",
       "      <td>1</td>\n",
       "      <td>Yes</td>\n",
       "      <td>Private</td>\n",
       "      <td>Urban</td>\n",
       "      <td>228.69</td>\n",
       "      <td>36.6</td>\n",
       "      <td>formerly smoked</td>\n",
       "      <td>1</td>\n",
       "    </tr>\n",
       "    <tr>\n",
       "      <th>1</th>\n",
       "      <td>51676</td>\n",
       "      <td>Female</td>\n",
       "      <td>61.0</td>\n",
       "      <td>0</td>\n",
       "      <td>0</td>\n",
       "      <td>Yes</td>\n",
       "      <td>Self-employed</td>\n",
       "      <td>Rural</td>\n",
       "      <td>202.21</td>\n",
       "      <td>NaN</td>\n",
       "      <td>never smoked</td>\n",
       "      <td>1</td>\n",
       "    </tr>\n",
       "    <tr>\n",
       "      <th>2</th>\n",
       "      <td>31112</td>\n",
       "      <td>Male</td>\n",
       "      <td>80.0</td>\n",
       "      <td>0</td>\n",
       "      <td>1</td>\n",
       "      <td>Yes</td>\n",
       "      <td>Private</td>\n",
       "      <td>Rural</td>\n",
       "      <td>105.92</td>\n",
       "      <td>32.5</td>\n",
       "      <td>never smoked</td>\n",
       "      <td>1</td>\n",
       "    </tr>\n",
       "    <tr>\n",
       "      <th>3</th>\n",
       "      <td>60182</td>\n",
       "      <td>Female</td>\n",
       "      <td>49.0</td>\n",
       "      <td>0</td>\n",
       "      <td>0</td>\n",
       "      <td>Yes</td>\n",
       "      <td>Private</td>\n",
       "      <td>Urban</td>\n",
       "      <td>171.23</td>\n",
       "      <td>34.4</td>\n",
       "      <td>smokes</td>\n",
       "      <td>1</td>\n",
       "    </tr>\n",
       "    <tr>\n",
       "      <th>4</th>\n",
       "      <td>1665</td>\n",
       "      <td>Female</td>\n",
       "      <td>79.0</td>\n",
       "      <td>1</td>\n",
       "      <td>0</td>\n",
       "      <td>Yes</td>\n",
       "      <td>Self-employed</td>\n",
       "      <td>Rural</td>\n",
       "      <td>174.12</td>\n",
       "      <td>24.0</td>\n",
       "      <td>never smoked</td>\n",
       "      <td>1</td>\n",
       "    </tr>\n",
       "  </tbody>\n",
       "</table>\n",
       "</div>"
      ],
      "text/plain": [
       "      id  gender   age  hypertension  heart_disease ever_married  \\\n",
       "0   9046    Male  67.0             0              1          Yes   \n",
       "1  51676  Female  61.0             0              0          Yes   \n",
       "2  31112    Male  80.0             0              1          Yes   \n",
       "3  60182  Female  49.0             0              0          Yes   \n",
       "4   1665  Female  79.0             1              0          Yes   \n",
       "\n",
       "       work_type Residence_type  avg_glucose_level   bmi   smoking_status  \\\n",
       "0        Private          Urban             228.69  36.6  formerly smoked   \n",
       "1  Self-employed          Rural             202.21   NaN     never smoked   \n",
       "2        Private          Rural             105.92  32.5     never smoked   \n",
       "3        Private          Urban             171.23  34.4           smokes   \n",
       "4  Self-employed          Rural             174.12  24.0     never smoked   \n",
       "\n",
       "   stroke  \n",
       "0       1  \n",
       "1       1  \n",
       "2       1  \n",
       "3       1  \n",
       "4       1  "
      ]
     },
     "execution_count": 3,
     "metadata": {},
     "output_type": "execute_result"
    }
   ],
   "source": [
    "print(data.shape)\n",
    "data.head()"
   ]
  },
  {
   "cell_type": "markdown",
   "metadata": {},
   "source": [
    "## Preprocessing"
   ]
  },
  {
   "cell_type": "markdown",
   "metadata": {},
   "source": [
    "### Unbalanced Columns"
   ]
  },
  {
   "cell_type": "markdown",
   "metadata": {},
   "source": [
    "Checking the value distribution in categorical columns"
   ]
  },
  {
   "cell_type": "code",
   "execution_count": 4,
   "metadata": {},
   "outputs": [
    {
     "name": "stdout",
     "output_type": "stream",
     "text": [
      "gender\n",
      "Female    2994\n",
      "Male      2115\n",
      "Other        1\n",
      "Name: gender, dtype: int64\n",
      "\n",
      "hypertension\n",
      "0    4612\n",
      "1     498\n",
      "Name: hypertension, dtype: int64\n",
      "\n",
      "heart_disease\n",
      "0    4834\n",
      "1     276\n",
      "Name: heart_disease, dtype: int64\n",
      "\n",
      "ever_married\n",
      "Yes    3353\n",
      "No     1757\n",
      "Name: ever_married, dtype: int64\n",
      "\n",
      "work_type\n",
      "Private          2925\n",
      "Self-employed     819\n",
      "children          687\n",
      "Govt_job          657\n",
      "Never_worked       22\n",
      "Name: work_type, dtype: int64\n",
      "\n",
      "Residence_type\n",
      "Urban    2596\n",
      "Rural    2514\n",
      "Name: Residence_type, dtype: int64\n",
      "\n",
      "smoking_status\n",
      "never smoked       1892\n",
      "Unknown            1544\n",
      "formerly smoked     885\n",
      "smokes              789\n",
      "Name: smoking_status, dtype: int64\n",
      "\n",
      "stroke\n",
      "0    4861\n",
      "1     249\n",
      "Name: stroke, dtype: int64\n",
      "\n"
     ]
    }
   ],
   "source": [
    "cat_cols = ['gender', 'hypertension', 'heart_disease', \n",
    "            'ever_married','work_type', 'Residence_type',\n",
    "            'smoking_status', 'stroke']\n",
    "\n",
    "for col in cat_cols:\n",
    "    print(col)\n",
    "    print(data[col].value_counts())\n",
    "    print('')"
   ]
  },
  {
   "cell_type": "markdown",
   "metadata": {},
   "source": [
    "Removing the \"Other\" from gender"
   ]
  },
  {
   "cell_type": "code",
   "execution_count": 5,
   "metadata": {},
   "outputs": [
    {
     "data": {
      "text/html": [
       "<div>\n",
       "<style scoped>\n",
       "    .dataframe tbody tr th:only-of-type {\n",
       "        vertical-align: middle;\n",
       "    }\n",
       "\n",
       "    .dataframe tbody tr th {\n",
       "        vertical-align: top;\n",
       "    }\n",
       "\n",
       "    .dataframe thead th {\n",
       "        text-align: right;\n",
       "    }\n",
       "</style>\n",
       "<table border=\"1\" class=\"dataframe\">\n",
       "  <thead>\n",
       "    <tr style=\"text-align: right;\">\n",
       "      <th></th>\n",
       "      <th>id</th>\n",
       "      <th>gender</th>\n",
       "      <th>age</th>\n",
       "      <th>hypertension</th>\n",
       "      <th>heart_disease</th>\n",
       "      <th>ever_married</th>\n",
       "      <th>work_type</th>\n",
       "      <th>Residence_type</th>\n",
       "      <th>avg_glucose_level</th>\n",
       "      <th>bmi</th>\n",
       "      <th>smoking_status</th>\n",
       "      <th>stroke</th>\n",
       "    </tr>\n",
       "  </thead>\n",
       "  <tbody>\n",
       "    <tr>\n",
       "      <th>3116</th>\n",
       "      <td>56156</td>\n",
       "      <td>Other</td>\n",
       "      <td>26.0</td>\n",
       "      <td>0</td>\n",
       "      <td>0</td>\n",
       "      <td>No</td>\n",
       "      <td>Private</td>\n",
       "      <td>Rural</td>\n",
       "      <td>143.33</td>\n",
       "      <td>22.4</td>\n",
       "      <td>formerly smoked</td>\n",
       "      <td>0</td>\n",
       "    </tr>\n",
       "  </tbody>\n",
       "</table>\n",
       "</div>"
      ],
      "text/plain": [
       "         id gender   age  hypertension  heart_disease ever_married work_type  \\\n",
       "3116  56156  Other  26.0             0              0           No   Private   \n",
       "\n",
       "     Residence_type  avg_glucose_level   bmi   smoking_status  stroke  \n",
       "3116          Rural             143.33  22.4  formerly smoked       0  "
      ]
     },
     "execution_count": 5,
     "metadata": {},
     "output_type": "execute_result"
    }
   ],
   "source": [
    "data[data.gender == \"Other\"]"
   ]
  },
  {
   "cell_type": "code",
   "execution_count": 6,
   "metadata": {},
   "outputs": [],
   "source": [
    "data.drop(3116, axis=0, inplace=True)"
   ]
  },
  {
   "cell_type": "markdown",
   "metadata": {},
   "source": [
    "### Missing Values"
   ]
  },
  {
   "cell_type": "markdown",
   "metadata": {},
   "source": [
    "Checking for missing values in each column"
   ]
  },
  {
   "cell_type": "code",
   "execution_count": 7,
   "metadata": {},
   "outputs": [
    {
     "name": "stdout",
     "output_type": "stream",
     "text": [
      "id 0\n",
      "gender 0\n",
      "age 0\n",
      "hypertension 0\n",
      "heart_disease 0\n",
      "ever_married 0\n",
      "work_type 0\n",
      "Residence_type 0\n",
      "avg_glucose_level 0\n",
      "bmi 201\n",
      "smoking_status 0\n",
      "stroke 0\n"
     ]
    }
   ],
   "source": [
    "for col in data.columns:\n",
    "    print(col,data[col].isna().sum())"
   ]
  },
  {
   "cell_type": "markdown",
   "metadata": {},
   "source": [
    "BMI imputation"
   ]
  },
  {
   "cell_type": "code",
   "execution_count": 8,
   "metadata": {},
   "outputs": [
    {
     "data": {
      "image/png": "[encoded data removed]",
      "text/plain": [
       "<Figure size 432x288 with 1 Axes>"
      ]
     },
     "metadata": {
      "needs_background": "light"
     },
     "output_type": "display_data"
    }
   ],
   "source": [
    "data.bmi.hist(bins=30);"
   ]
  },
  {
   "cell_type": "markdown",
   "metadata": {},
   "source": [
    "Impute BMI larger than 60 as missing values"
   ]
  },
  {
   "cell_type": "code",
   "execution_count": 9,
   "metadata": {},
   "outputs": [],
   "source": [
    "data.bmi = data.bmi.apply(lambda x: np.nan if x >= 60 else x)"
   ]
  },
  {
   "cell_type": "code",
   "execution_count": 10,
   "metadata": {},
   "outputs": [
    {
     "data": {
      "image/png": "[encoded data removed]",
      "text/plain": [
       "<Figure size 432x288 with 1 Axes>"
      ]
     },
     "metadata": {
      "needs_background": "light"
     },
     "output_type": "display_data"
    }
   ],
   "source": [
    "data.bmi.hist(bins=30);"
   ]
  },
  {
   "cell_type": "markdown",
   "metadata": {},
   "source": [
    "Imputing missing values by average BMI"
   ]
  },
  {
   "cell_type": "code",
   "execution_count": 11,
   "metadata": {},
   "outputs": [
    {
     "data": {
      "image/png": "[encoded data removed]",
      "text/plain": [
       "<Figure size 432x288 with 1 Axes>"
      ]
     },
     "metadata": {
      "needs_background": "light"
     },
     "output_type": "display_data"
    }
   ],
   "source": [
    "data.fillna(data.bmi.mean(), inplace=True)\n",
    "data.bmi.hist(bins=30);"
   ]
  },
  {
   "cell_type": "markdown",
   "metadata": {},
   "source": [
    "Imputing the \"Unknown\" category to \"Occasional smoking\""
   ]
  },
  {
   "cell_type": "code",
   "execution_count": 12,
   "metadata": {},
   "outputs": [],
   "source": [
    "data.replace(\"Unknown\", \"Occasional smoking\", inplace=True)"
   ]
  },
  {
   "cell_type": "code",
   "execution_count": 13,
   "metadata": {},
   "outputs": [
    {
     "data": {
      "text/plain": [
       "never smoked          1892\n",
       "Occasional smoking    1544\n",
       "formerly smoked        884\n",
       "smokes                 789\n",
       "Name: smoking_status, dtype: int64"
      ]
     },
     "execution_count": 13,
     "metadata": {},
     "output_type": "execute_result"
    }
   ],
   "source": [
    "data.smoking_status.value_counts()"
   ]
  },
  {
   "cell_type": "markdown",
   "metadata": {},
   "source": [
    "## Data Analysis"
   ]
  },
  {
   "cell_type": "markdown",
   "metadata": {},
   "source": [
    "### Histogram of Numerical Variables"
   ]
  },
  {
   "cell_type": "markdown",
   "metadata": {},
   "source": [
    "- The distribution of age resembles the uniform distribution with a small peak between 50 & 60.\n",
    "<br><br>\n",
    "- The distribution of BMI is almost normally distributed. The large number of patients around 30 is likely due to mean imputation.\n",
    "<br><br>\n",
    "- The distribution of average glucose level is bimodal."
   ]
  },
  {
   "cell_type": "code",
   "execution_count": 14,
   "metadata": {},
   "outputs": [
    {
     "data": {
      "image/png": "[encoded data removed]",
      "text/plain": [
       "<Figure size 576x1152 with 3 Axes>"
      ]
     },
     "metadata": {
      "needs_background": "light"
     },
     "output_type": "display_data"
    }
   ],
   "source": [
    "plt.figure(figsize=[8, 16])\n",
    "\n",
    "plt.subplot(3, 1, 1)\n",
    "sns.distplot(data.age);\n",
    "plt.xlabel('Age (years)');\n",
    "\n",
    "ax = plt.subplot(3, 1, 2)\n",
    "sns.distplot(data.bmi);\n",
    "plt.xlabel('BMI (Kg/m2)');\n",
    "\n",
    "ax = plt.subplot(3, 1, 3)\n",
    "sns.distplot(data.avg_glucose_level);\n",
    "plt.xlabel('Avg. Glucose Level (mg/dL)');"
   ]
  },
  {
   "cell_type": "markdown",
   "metadata": {},
   "source": [
    "### Patient Demographics"
   ]
  },
  {
   "cell_type": "markdown",
   "metadata": {},
   "source": [
    "- The number of the 2 genders is similar with a slightly more females than males.\n",
    "<br><br>\n",
    "- Most of the participants are married and work privately.\n",
    "<br><br>\n",
    "- Almost half of the subjects reside in urban areas."
   ]
  },
  {
   "cell_type": "code",
   "execution_count": 15,
   "metadata": {},
   "outputs": [
    {
     "data": {
      "image/png": "[encoded data removed]",
      "text/plain": [
       "<Figure size 864x864 with 4 Axes>"
      ]
     },
     "metadata": {
      "needs_background": "light"
     },
     "output_type": "display_data"
    }
   ],
   "source": [
    "plt.figure(figsize=[12, 12])\n",
    "\n",
    "plt.subplot(2, 2, 1)\n",
    "sns.countplot(data.gender);\n",
    "plt.xlabel('Gender');\n",
    "\n",
    "ax = plt.subplot(2, 2, 2)\n",
    "sns.countplot(data.ever_married);\n",
    "plt.xlabel('Marital Status');\n",
    "\n",
    "ax = plt.subplot(2, 2, 3)\n",
    "sns.countplot(data.work_type);\n",
    "plt.xlabel('Work Type');\n",
    "\n",
    "ax = plt.subplot(2, 2, 4)\n",
    "sns.countplot(data.Residence_type);\n",
    "plt.xlabel('Residence Type');"
   ]
  },
  {
   "cell_type": "markdown",
   "metadata": {},
   "source": [
    "### Diseases"
   ]
  },
  {
   "cell_type": "markdown",
   "metadata": {},
   "source": [
    "- Most of the subjects do not have hypertension, heart disease or stroke."
   ]
  },
  {
   "cell_type": "code",
   "execution_count": 16,
   "metadata": {},
   "outputs": [
    {
     "data": {
      "image/png": "[encoded data removed]",
      "text/plain": [
       "<Figure size 1152x288 with 3 Axes>"
      ]
     },
     "metadata": {
      "needs_background": "light"
     },
     "output_type": "display_data"
    }
   ],
   "source": [
    "plt.figure(figsize=[16, 4])\n",
    "\n",
    "plt.subplot(1, 3, 1)\n",
    "sns.countplot(data.hypertension);\n",
    "plt.xlabel('Hypertension');\n",
    "plt.xticks([0,1] , [\"No\",\"Yes\"]);\n",
    "\n",
    "ax = plt.subplot(1, 3, 2)\n",
    "sns.countplot(data.heart_disease);\n",
    "plt.xlabel('Heart Disease');\n",
    "plt.xticks([0,1] , [\"No\",\"Yes\"]);\n",
    "\n",
    "ax = plt.subplot(1, 3, 3)\n",
    "sns.countplot(data.stroke);\n",
    "plt.xlabel('Stroke');\n",
    "plt.xticks([0,1] , [\"No\",\"Yes\"]);"
   ]
  },
  {
   "cell_type": "markdown",
   "metadata": {},
   "source": [
    "### Comparison between stroke patients and healthy subjects"
   ]
  },
  {
   "cell_type": "code",
   "execution_count": 17,
   "metadata": {},
   "outputs": [],
   "source": [
    "df1 = pd.concat((data[data.stroke == 0].sample(250), data[data.stroke == 1]))\n"
   ]
  },
  {
   "cell_type": "markdown",
   "metadata": {},
   "source": [
    "- The age of stroke patients is often centered around (60-80), while healthy patients can be of any age. Therefore, old age may increase the risk of stroke.\n",
    "<br>\n",
    "<br>\n",
    "- BMI is similar for both stroke patients and healthy subjects. However, the curve of healthy subjects is more spread.\n",
    "<br>\n",
    "<br>\n",
    "- The average glucose level of stroke patients is more shifted to the left compared to the healthy subjects, which might suggests that it can increase the risk of stroke."
   ]
  },
  {
   "cell_type": "code",
   "execution_count": 18,
   "metadata": {},
   "outputs": [
    {
     "data": {
      "image/png": "[encoded data removed]",
      "text/plain": [
       "<Figure size 576x864 with 3 Axes>"
      ]
     },
     "metadata": {
      "needs_background": "light"
     },
     "output_type": "display_data"
    }
   ],
   "source": [
    "plt.figure(figsize=[8, 12])\n",
    "plt.subplots_adjust(hspace=0.3)\n",
    "\n",
    "plt.subplot(3, 1, 1)\n",
    "sns.kdeplot(data = df1, x = 'age', hue = 'stroke');\n",
    "plt.xlabel('Age (Years)');\n",
    "plt.xlim(0,110);\n",
    "\n",
    "ax = plt.subplot(3, 1, 2)\n",
    "sns.kdeplot(data = df1, x = 'bmi', hue = 'stroke');\n",
    "plt.xlabel('BMI (Kg/m2)');\n",
    "\n",
    "ax = plt.subplot(3, 1, 3)\n",
    "sns.kdeplot(data = df1, x = 'avg_glucose_level', hue = 'stroke');\n",
    "plt.xlabel('Avg. Glucose Level (mg/dL)');"
   ]
  },
  {
   "cell_type": "markdown",
   "metadata": {},
   "source": [
    "- People who have hypertension and heart disease seem to be more likely to have stroke."
   ]
  },
  {
   "cell_type": "code",
   "execution_count": 19,
   "metadata": {
    "scrolled": false
   },
   "outputs": [
    {
     "data": {
      "image/png": "[encoded data removed]",
      "text/plain": [
       "<Figure size 1152x432 with 2 Axes>"
      ]
     },
     "metadata": {
      "needs_background": "light"
     },
     "output_type": "display_data"
    }
   ],
   "source": [
    "plt.figure(figsize=[16,6])\n",
    "plt.subplots_adjust(hspace=0.3)\n",
    "\n",
    "plt.subplot(1, 2, 1)\n",
    "sns.countplot(data = df1, x = 'hypertension', hue = 'stroke', palette = 'Blues');\n",
    "plt.xlabel('Hypertension');\n",
    "plt.xticks([0,1] , [\"0\",\"1\"]);\n",
    "\n",
    "ax = plt.subplot(1, 2, 2)\n",
    "sns.countplot(data = df1, x = 'heart_disease', hue = 'stroke', palette = 'Greens');\n",
    "plt.xlabel('Heart Disease');\n",
    "plt.xticks([0,1] , [\"0\",\"1\"]);"
   ]
  },
  {
   "cell_type": "code",
   "execution_count": 20,
   "metadata": {},
   "outputs": [
    {
     "data": {
      "image/png": "[encoded data removed]",
      "text/plain": [
       "<Figure size 1152x864 with 4 Axes>"
      ]
     },
     "metadata": {
      "needs_background": "light"
     },
     "output_type": "display_data"
    }
   ],
   "source": [
    "plt.figure(figsize=[16,12])\n",
    "plt.subplots_adjust(hspace=0.3)\n",
    "\n",
    "plt.subplot(2, 2, 1)\n",
    "sns.countplot(data = df1, x = 'gender', hue = 'stroke', palette = 'Blues');\n",
    "plt.xlabel('Gender');\n",
    "\n",
    "ax = plt.subplot(2, 2, 2)\n",
    "sns.countplot(data = df1, x = 'ever_married', hue = 'stroke', palette = 'Greens');\n",
    "plt.xlabel('Marital');\n",
    "\n",
    "plt.subplot(2, 2, 3)\n",
    "sns.countplot(data = df1, x = 'work_type', hue = 'stroke', palette = 'Blues');\n",
    "plt.xlabel('Work Type');\n",
    "\n",
    "ax = plt.subplot(2, 2, 4)\n",
    "sns.countplot(data = df1, x = 'Residence_type', hue = 'stroke', palette = 'Greens');\n",
    "plt.xlabel('Residence Type');"
   ]
  },
  {
   "cell_type": "markdown",
   "metadata": {},
   "source": [
    "## Stroke Prediction (ML)"
   ]
  },
  {
   "cell_type": "markdown",
   "metadata": {},
   "source": [
    "### Preprocessing"
   ]
  },
  {
   "cell_type": "markdown",
   "metadata": {},
   "source": [
    "Drop the unnecessary columns (ID, Work Type, Residence Type)"
   ]
  },
  {
   "cell_type": "code",
   "execution_count": 21,
   "metadata": {},
   "outputs": [],
   "source": [
    "df2 = data.drop(columns = [\"id\", \"work_type\", \"Residence_type\"])"
   ]
  },
  {
   "cell_type": "markdown",
   "metadata": {},
   "source": [
    "Change categorical variables (Gender, Marital Status) the have only 2 values to binary"
   ]
  },
  {
   "cell_type": "code",
   "execution_count": 22,
   "metadata": {},
   "outputs": [],
   "source": [
    "df2.gender[df2.gender == \"Female\"] = 1 \n",
    "df2.gender[df2.gender == \"Male\"] = 0\n",
    "df2.gender = df2.gender.astype(int)\n",
    "\n",
    "df2.ever_married[df2.ever_married == \"Yes\"] = 1 \n",
    "df2.ever_married[df2.ever_married == \"No\"] = 0\n",
    "df2.ever_married = df2.ever_married.astype(int)"
   ]
  },
  {
   "cell_type": "markdown",
   "metadata": {},
   "source": [
    "Transform categorical variables (Smoking Status) with multiple values into one-hot-encoded columns"
   ]
  },
  {
   "cell_type": "code",
   "execution_count": 23,
   "metadata": {},
   "outputs": [],
   "source": [
    "df2 = pd.get_dummies(df2)"
   ]
  },
  {
   "cell_type": "markdown",
   "metadata": {},
   "source": [
    "Scale the numerical variables into the same range (0 - 1) using min-max scaling technique:\n",
    "\n",
    "<font color='blue'> $$\\frac{x - min(x)}{max(x) - min(x)}$$ <font>"
   ]
  },
  {
   "cell_type": "code",
   "execution_count": 24,
   "metadata": {},
   "outputs": [
    {
     "data": {
      "text/html": [
       "<div>\n",
       "<style scoped>\n",
       "    .dataframe tbody tr th:only-of-type {\n",
       "        vertical-align: middle;\n",
       "    }\n",
       "\n",
       "    .dataframe tbody tr th {\n",
       "        vertical-align: top;\n",
       "    }\n",
       "\n",
       "    .dataframe thead th {\n",
       "        text-align: right;\n",
       "    }\n",
       "</style>\n",
       "<table border=\"1\" class=\"dataframe\">\n",
       "  <thead>\n",
       "    <tr style=\"text-align: right;\">\n",
       "      <th></th>\n",
       "      <th>gender</th>\n",
       "      <th>age</th>\n",
       "      <th>hypertension</th>\n",
       "      <th>heart_disease</th>\n",
       "      <th>ever_married</th>\n",
       "      <th>avg_glucose_level</th>\n",
       "      <th>bmi</th>\n",
       "      <th>stroke</th>\n",
       "      <th>smoking_status_Occasional smoking</th>\n",
       "      <th>smoking_status_formerly smoked</th>\n",
       "      <th>smoking_status_never smoked</th>\n",
       "      <th>smoking_status_smokes</th>\n",
       "    </tr>\n",
       "  </thead>\n",
       "  <tbody>\n",
       "    <tr>\n",
       "      <th>0</th>\n",
       "      <td>0</td>\n",
       "      <td>0.816895</td>\n",
       "      <td>0</td>\n",
       "      <td>1</td>\n",
       "      <td>1</td>\n",
       "      <td>0.801265</td>\n",
       "      <td>0.532389</td>\n",
       "      <td>1</td>\n",
       "      <td>0</td>\n",
       "      <td>1</td>\n",
       "      <td>0</td>\n",
       "      <td>0</td>\n",
       "    </tr>\n",
       "    <tr>\n",
       "      <th>1</th>\n",
       "      <td>1</td>\n",
       "      <td>0.743652</td>\n",
       "      <td>0</td>\n",
       "      <td>0</td>\n",
       "      <td>1</td>\n",
       "      <td>0.679023</td>\n",
       "      <td>0.374225</td>\n",
       "      <td>1</td>\n",
       "      <td>0</td>\n",
       "      <td>0</td>\n",
       "      <td>1</td>\n",
       "      <td>0</td>\n",
       "    </tr>\n",
       "    <tr>\n",
       "      <th>2</th>\n",
       "      <td>0</td>\n",
       "      <td>0.975586</td>\n",
       "      <td>0</td>\n",
       "      <td>1</td>\n",
       "      <td>1</td>\n",
       "      <td>0.234512</td>\n",
       "      <td>0.449393</td>\n",
       "      <td>1</td>\n",
       "      <td>0</td>\n",
       "      <td>0</td>\n",
       "      <td>1</td>\n",
       "      <td>0</td>\n",
       "    </tr>\n",
       "    <tr>\n",
       "      <th>3</th>\n",
       "      <td>1</td>\n",
       "      <td>0.597168</td>\n",
       "      <td>0</td>\n",
       "      <td>0</td>\n",
       "      <td>1</td>\n",
       "      <td>0.536008</td>\n",
       "      <td>0.487854</td>\n",
       "      <td>1</td>\n",
       "      <td>0</td>\n",
       "      <td>0</td>\n",
       "      <td>0</td>\n",
       "      <td>1</td>\n",
       "    </tr>\n",
       "    <tr>\n",
       "      <th>4</th>\n",
       "      <td>1</td>\n",
       "      <td>0.963379</td>\n",
       "      <td>1</td>\n",
       "      <td>0</td>\n",
       "      <td>1</td>\n",
       "      <td>0.549349</td>\n",
       "      <td>0.277328</td>\n",
       "      <td>1</td>\n",
       "      <td>0</td>\n",
       "      <td>0</td>\n",
       "      <td>1</td>\n",
       "      <td>0</td>\n",
       "    </tr>\n",
       "  </tbody>\n",
       "</table>\n",
       "</div>"
      ],
      "text/plain": [
       "   gender       age  hypertension  heart_disease  ever_married  \\\n",
       "0       0  0.816895             0              1             1   \n",
       "1       1  0.743652             0              0             1   \n",
       "2       0  0.975586             0              1             1   \n",
       "3       1  0.597168             0              0             1   \n",
       "4       1  0.963379             1              0             1   \n",
       "\n",
       "   avg_glucose_level       bmi  stroke  smoking_status_Occasional smoking  \\\n",
       "0           0.801265  0.532389       1                                  0   \n",
       "1           0.679023  0.374225       1                                  0   \n",
       "2           0.234512  0.449393       1                                  0   \n",
       "3           0.536008  0.487854       1                                  0   \n",
       "4           0.549349  0.277328       1                                  0   \n",
       "\n",
       "   smoking_status_formerly smoked  smoking_status_never smoked  \\\n",
       "0                               1                            0   \n",
       "1                               0                            1   \n",
       "2                               0                            1   \n",
       "3                               0                            0   \n",
       "4                               0                            1   \n",
       "\n",
       "   smoking_status_smokes  \n",
       "0                      0  \n",
       "1                      0  \n",
       "2                      0  \n",
       "3                      1  \n",
       "4                      0  "
      ]
     },
     "execution_count": 24,
     "metadata": {},
     "output_type": "execute_result"
    }
   ],
   "source": [
    "scaler = MinMaxScaler()\n",
    "scaler.fit(df2[[\"age\",\"avg_glucose_level\",\"bmi\"]])\n",
    "df2[[\"age\",\"avg_glucose_level\",\"bmi\"]] = scaler.transform(df2[[\"age\",\"avg_glucose_level\",\"bmi\"]])\n",
    "\n",
    "df2.head()"
   ]
  },
  {
   "cell_type": "markdown",
   "metadata": {},
   "source": [
    "Partition the data into trainig set and test set with sizes 70% and 30% respectively"
   ]
  },
  {
   "cell_type": "code",
   "execution_count": 25,
   "metadata": {},
   "outputs": [],
   "source": [
    "train, test = train_test_split(df2, test_size=0.3, random_state=40)\n",
    "\n",
    "train_labels = train.stroke\n",
    "test_labels = test.stroke"
   ]
  },
  {
   "cell_type": "markdown",
   "metadata": {},
   "source": [
    "Oversampling the data to avoid imbalance in the target column"
   ]
  },
  {
   "cell_type": "code",
   "execution_count": 26,
   "metadata": {},
   "outputs": [
    {
     "name": "stdout",
     "output_type": "stream",
     "text": [
      "Percent of Stroke Patients before Oversampling: 4.977628635346756\n",
      "Percent of Stroke Patients after Oversampling: 50.0\n"
     ]
    }
   ],
   "source": [
    "print(\"Percent of Stroke Patients before Oversampling:\", train_labels.sum() * 100 / train_labels.shape[0])\n",
    "\n",
    "sm = SMOTE(sampling_strategy='minority', random_state=40)\n",
    "\n",
    "train, train_labels = sm.fit_sample(train.drop('stroke', axis=1), train['stroke'])\n",
    "test, test_labels = sm.fit_sample(test.drop('stroke', axis=1), test['stroke'])\n",
    "\n",
    "print(\"Percent of Stroke Patients after Oversampling:\", train_labels.sum() * 100 / train_labels.shape[0])"
   ]
  },
  {
   "cell_type": "markdown",
   "metadata": {},
   "source": [
    "### Training & Prediction"
   ]
  },
  {
   "cell_type": "markdown",
   "metadata": {},
   "source": [
    "#### Logistic Regression"
   ]
  },
  {
   "cell_type": "code",
   "execution_count": 27,
   "metadata": {},
   "outputs": [
    {
     "name": "stdout",
     "output_type": "stream",
     "text": [
      "              precision    recall  f1-score   support\n",
      "\n",
      "           0       0.75      0.74      0.74      1462\n",
      "           1       0.74      0.75      0.75      1462\n",
      "\n",
      "    accuracy                           0.74      2924\n",
      "   macro avg       0.74      0.74      0.74      2924\n",
      "weighted avg       0.74      0.74      0.74      2924\n",
      "\n",
      "Accuracy: 0.7445280437756497\n",
      "F1 Score: 0.746177370030581\n",
      "AUC: 0.8129410641869448\n"
     ]
    }
   ],
   "source": [
    "# Instantiate Logistic Regression\n",
    "log_reg = LogisticRegression()\n",
    "\n",
    "# Train on the training data and the trainig labels\n",
    "log_reg.fit(train, train_labels)\n",
    "\n",
    "# Predict the labels of the test data\n",
    "log_reg_pred = log_reg.predict(test)\n",
    "log_reg_pred_prob = log_reg.predict_proba(test)[:,1]\n",
    "\n",
    "# Calculate scores for model evaluation\n",
    "print(classification_report(test_labels, log_reg_pred))\n",
    "print('Accuracy:', accuracy_score(test_labels, log_reg_pred))\n",
    "print(\"F1 Score:\", f1_score(test_labels, log_reg_pred))\n",
    "print('AUC:', roc_auc_score(test_labels, log_reg_pred_prob))"
   ]
  },
  {
   "cell_type": "markdown",
   "metadata": {},
   "source": [
    "#### SVM"
   ]
  },
  {
   "cell_type": "code",
   "execution_count": 30,
   "metadata": {},
   "outputs": [
    {
     "name": "stdout",
     "output_type": "stream",
     "text": [
      "              precision    recall  f1-score   support\n",
      "\n",
      "           0       0.77      0.73      0.75      1462\n",
      "           1       0.74      0.79      0.76      1462\n",
      "\n",
      "    accuracy                           0.76      2924\n",
      "   macro avg       0.76      0.76      0.76      2924\n",
      "weighted avg       0.76      0.76      0.76      2924\n",
      "\n",
      "Accuracy: 0.7571819425444597\n",
      "F1 Score: 0.7639627659574468\n",
      "AUC: 0.8159282769513494\n"
     ]
    }
   ],
   "source": [
    "# Instantiate Support Vector Machines\n",
    "clf = svm.SVC(kernel='linear',probability=True)\n",
    "\n",
    "# Train on the training data and the trainig labels\n",
    "clf.fit(train, train_labels)\n",
    "\n",
    "# Predict the labels of the test data\n",
    "svm_pred = clf.predict(test)\n",
    "svm_pred_prob = clf.predict_proba(test)[:,1]\n",
    "\n",
    "# Calculate scores for model evaluation\n",
    "print(classification_report(test_labels, svm_pred))\n",
    "print('Accuracy:', accuracy_score(test_labels, svm_pred))\n",
    "print(\"F1 Score:\", f1_score(test_labels, svm_pred))\n",
    "print('AUC:', roc_auc_score(test_labels, svm_pred_prob))"
   ]
  },
  {
   "cell_type": "markdown",
   "metadata": {},
   "source": [
    "#### Random Forest"
   ]
  },
  {
   "cell_type": "code",
   "execution_count": 31,
   "metadata": {},
   "outputs": [
    {
     "name": "stdout",
     "output_type": "stream",
     "text": [
      "              precision    recall  f1-score   support\n",
      "\n",
      "           0       0.66      0.90      0.76      1462\n",
      "           1       0.84      0.53      0.65      1462\n",
      "\n",
      "    accuracy                           0.71      2924\n",
      "   macro avg       0.75      0.71      0.70      2924\n",
      "weighted avg       0.75      0.71      0.70      2924\n",
      "\n",
      "Accuracy: 0.7144322845417237\n",
      "F1 Score: 0.648421052631579\n",
      "AUC: 0.8575188402596746\n"
     ]
    }
   ],
   "source": [
    "# Instantiate Random Forest\n",
    "random_forest = RandomForestClassifier()\n",
    "\n",
    "# Train on the training data and the trainig labels\n",
    "random_forest.fit(train, train_labels)\n",
    "\n",
    "# Predict the labels of the test data\n",
    "forest_pred = random_forest.predict(test)\n",
    "forest_pred_prob = random_forest.predict_proba(test)[:,1]\n",
    "\n",
    "# Calculate scores for model evaluation\n",
    "print(classification_report(test_labels, forest_pred))\n",
    "print('Accuracy:', accuracy_score(test_labels, forest_pred))\n",
    "print(\"F1 Score:\", f1_score(test_labels, forest_pred))\n",
    "print('AUC:', roc_auc_score(test_labels, forest_pred_prob))"
   ]
  },
  {
   "cell_type": "markdown",
   "metadata": {},
   "source": [
    "**Random Forest is the best classifier in terms of ROC-AUC. However, SVM seems to be the highest performing in terms of accuracy and F1 score.**"
   ]
  },
  {
   "cell_type": "code",
   "execution_count": null,
   "metadata": {},
   "outputs": [],
   "source": []
  },
  {
   "cell_type": "code",
   "execution_count": null,
   "metadata": {},
   "outputs": [],
   "source": []
  }
 ],
 "metadata": {
  "kernelspec": {
   "display_name": "Python 3",
   "language": "python",
   "name": "python3"
  },
  "language_info": {
   "codemirror_mode": {
    "name": "ipython",
    "version": 3
   },
   "file_extension": ".py",
   "mimetype": "text/x-python",
   "name": "python",
   "nbconvert_exporter": "python",
   "pygments_lexer": "ipython3",
   "version": "3.8.8"
  }
 },
 "nbformat": 4,
 "nbformat_minor": 4
}
